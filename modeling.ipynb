{
 "cells": [
  {
   "cell_type": "markdown",
   "id": "741b2131",
   "metadata": {},
   "source": [
    "# Predicting the Golden State Warriors(GSW) WIN/LOSS for 2012-2021 period games.\n"
   ]
  },
  {
   "cell_type": "markdown",
   "id": "a64cc50d",
   "metadata": {},
   "source": [
    "## Introduction\n",
    "\n",
    "In project 1, I was doing  analytical research on Stephen Curry's influence on Golden State Warriors(GSW) Performance.\n",
    "\n",
    "In this project I will try to predict whether GSW will win or loss on NBA games betweem 2012 and 2021.\n",
    "\n",
    "\n",
    "* games.csv : all games from 2004 season to last update with the date, teams and some details like number of points, etc.\n",
    "* games_details.csv : details of games dataset, all statistics of players for a given game\n",
    "\n",
    "2 datasets were taken from kaggle.com(https://www.kaggle.com/datasets/nathanlauga/nba-games), while the author used the https://www.nba.com/stats/ to collect these 5 datasets.\n",
    "\n",
    "* Input Variables:\n",
    "       'SEASON', - Season Year\n",
    "       'FG_PCT_gsw', - Field Goal Percentage GSW team\n",
    "       'FT_PCT_gsw', - Free Throw Percentage of the GSW team\n",
    "       'FG3_PCT_gsw', - GSW Team three-point field goal percentage(%)\n",
    "       'AST_gsw', - Assists of the GSW team\n",
    "       'REB_gsw', - Rebounds of the GSW team\n",
    "       'FG_PCT_opp', - Field Goal Percentage OPPONENT team\n",
    "       'FT_PCT_opp', - Free Throw Percentage of the OPPONENT team\n",
    "       'FG3_PCT_opp', - Opponent Team three-point field goal percentage(%)\n",
    "       'AST_opp', - Assists of the OPPONENT team\n",
    "       'REB_opp', - Rebounds of the OPPONENT team\n",
    "       'Stephen', - Stephen Curry plays this game\n",
    "       'Klay', - Klay Thompson plays this game\n",
    "       'Green', - Daymond Green plays this game\n",
    "       'OPPONENT_XXXXXXXXXX'- OPPONENT TEAM ID as Dummy Variable\n",
    "       \n",
    "* Output Varibale:\n",
    "          'GSW_WIN',- GSW WIN OR LOSS(1, 0) \n",
    "      \n",
    "I believe that 'SEASON' feature will affect the decision making of models in terms of good/bad year for a GSW team. Other features('FG_PCT_gsw', 'FT_PCT_gsw', 'FG3_PCT_gsw', 'AST_gsw','REB_gsw', 'FG_PCT_opp', 'FT_PCT_opp', 'FG3_PCT_opp', 'AST_opp','REB_opp') is a pure statistics of a opposing teams on a given a game, and I think these features will be the maiin feature to relate for making predictions. 'OPPONENT_XXXXXXXXXX' as a dummy variable - GSW can win specific team on regular basis and vice versa. Finally, 'Stephen','Klay', 'Green', these features represents 3 GSW superstar players whether they will play or not.\n",
    "\n",
    "Output varible was chosen, because the question itself \"Will specific team WIN OR LOSS in a given game?\" appears in our lives very often, and also predicting this target can then be used in game analytics to propose some counter-strategies agains specific team."
   ]
  },
  {
   "cell_type": "code",
   "execution_count": 214,
   "id": "d75f9163",
   "metadata": {},
   "outputs": [],
   "source": [
    "import numpy as np \n",
    "import pandas as pd\n",
    "import warnings\n",
    "import matplotlib.pyplot as plt\n",
    "%matplotlib inline\n",
    "warnings.filterwarnings(\"ignore\")\n",
    "from sklearn.linear_model import LogisticRegression\n",
    "from sklearn.metrics import roc_auc_score\n",
    "from sklearn.metrics import roc_curve\n",
    "from sklearn.metrics import classification_report, confusion_matrix\n",
    "from sklearn.ensemble import GradientBoostingClassifier\n",
    "from sklearn.model_selection import train_test_split, GridSearchCV\n",
    "from sklearn.model_selection import validation_curve\n",
    "from sklearn.neighbors import KNeighborsClassifier"
   ]
  },
  {
   "cell_type": "code",
   "execution_count": 3,
   "id": "28b43bb5",
   "metadata": {},
   "outputs": [],
   "source": [
    "games = pd.read_csv('games.csv')\n",
    "games_det = pd.read_csv('games_details.csv')"
   ]
  },
  {
   "cell_type": "code",
   "execution_count": 4,
   "id": "80e3ce3d",
   "metadata": {},
   "outputs": [],
   "source": [
    "gsw_games_12_21 = games[(games['SEASON']>=2012) & (games['SEASON']<2022)]"
   ]
  },
  {
   "cell_type": "code",
   "execution_count": 5,
   "id": "b6b45e86",
   "metadata": {},
   "outputs": [],
   "source": [
    "gsw = gsw_games_12_21[(gsw_games_12_21['HOME_TEAM_ID'] == 1610612744)|(gsw_games_12_21['VISITOR_TEAM_ID'] == 1610612744)]\n"
   ]
  },
  {
   "cell_type": "code",
   "execution_count": 6,
   "id": "99145bd8",
   "metadata": {},
   "outputs": [],
   "source": [
    "gsw.drop(['PTS_home', 'PTS_away', 'TEAM_ID_home', 'TEAM_ID_away'], axis = 1, inplace = True)"
   ]
  },
  {
   "cell_type": "code",
   "execution_count": 7,
   "id": "eaa56d5b",
   "metadata": {},
   "outputs": [],
   "source": [
    "team_games_h = gsw[(gsw['HOME_TEAM_ID'] == 1610612744)]\n",
    "team_games_v = gsw[(gsw['VISITOR_TEAM_ID'] == 1610612744)]\n",
    "\n",
    "team_games_h = team_games_h.rename(columns={'HOME_TEAM_ID': 'GSW',\n",
    "                                            'VISITOR_TEAM_ID': 'OPPONENT', \n",
    "                                            'FG_PCT_home': 'FG_PCT_gsw',\n",
    "                                            'FT_PCT_home': 'FT_PCT_gsw',\n",
    "                                            'FG3_PCT_home':'FG3_PCT_gsw',\n",
    "                                            'AST_home':'AST_gsw',\n",
    "                                            'REB_home':'REB_gsw',\n",
    "                                            'FG_PCT_away':'FG_PCT_opp',\n",
    "                                            'FT_PCT_away':'FT_PCT_opp',\n",
    "                                            'FG3_PCT_away':'FG3_PCT_opp',\n",
    "                                            'AST_away':'AST_opp',\n",
    "                                            'REB_away':'REB_opp'})\n",
    "\n",
    "team_games_v = team_games_v.rename(columns={'VISITOR_TEAM_ID': 'GSW',\n",
    "                                            'HOME_TEAM_ID': 'OPPONENT',\n",
    "                                            'FG_PCT_home': 'FG_PCT_opp',\n",
    "                                            'FT_PCT_home': 'FT_PCT_opp',\n",
    "                                            'FG3_PCT_home':'FG3_PCT_opp',\n",
    "                                            'AST_home':'AST_opp',\n",
    "                                            'REB_home':'REB_opp',\n",
    "                                            'FG_PCT_away':'FG_PCT_gsw',\n",
    "                                            'FT_PCT_away':'FT_PCT_gsw',\n",
    "                                            'FG3_PCT_away':'FG3_PCT_gsw',\n",
    "                                            'AST_away':'AST_gsw',\n",
    "                                            'REB_away':'REB_gsw'})\n",
    "\n",
    "team_games_v['HOME_TEAM_WINS'] = team_games_v['HOME_TEAM_WINS'].apply(lambda x: 1 if x == 0 else 0)\n",
    "\n",
    "team_games = pd.concat([team_games_h, team_games_v])"
   ]
  },
  {
   "cell_type": "code",
   "execution_count": 8,
   "id": "dab56861",
   "metadata": {},
   "outputs": [],
   "source": [
    "team_games = team_games.rename(columns = {'HOME_TEAM_WINS':'GSW_WIN'})"
   ]
  },
  {
   "cell_type": "code",
   "execution_count": 9,
   "id": "af5b837a",
   "metadata": {},
   "outputs": [],
   "source": [
    "games_det = games_det.drop_duplicates(subset=[\"GAME_ID\", \"PLAYER_NAME\"])"
   ]
  },
  {
   "cell_type": "code",
   "execution_count": 14,
   "id": "a41085a9",
   "metadata": {},
   "outputs": [],
   "source": [
    "def player_presence(name):\n",
    "    player = games_det[games_det[\"PLAYER_NAME\"] == name]\n",
    "    player_pres = [1 if i in list(player['GAME_ID'].values) else 0 for i in list(team_games['GAME_ID'].values)]\n",
    "    return player_pres"
   ]
  },
  {
   "cell_type": "code",
   "execution_count": 15,
   "id": "d26c5313",
   "metadata": {},
   "outputs": [],
   "source": [
    "team_games['Stephen'] = player_presence('Stephen Curry')\n",
    "team_games['Klay'] = player_presence('Klay Thompson')\n",
    "team_games['Green'] = player_presence('Draymond Green')"
   ]
  },
  {
   "cell_type": "code",
   "execution_count": 17,
   "id": "de32b06b",
   "metadata": {},
   "outputs": [],
   "source": [
    "team_games.drop(['GAME_STATUS_TEXT','GSW','GAME_DATE_EST'], axis = 1, inplace = True)\n",
    "team_games.set_index('GAME_ID', inplace  = True)"
   ]
  },
  {
   "cell_type": "code",
   "execution_count": 91,
   "id": "b5279c56",
   "metadata": {},
   "outputs": [],
   "source": [
    "team_games = pd.get_dummies(team_games, columns = ['OPPONENT'])"
   ]
  },
  {
   "cell_type": "code",
   "execution_count": 211,
   "id": "8624aa17",
   "metadata": {
    "scrolled": true
   },
   "outputs": [
    {
     "data": {
      "text/html": [
       "<div>\n",
       "<style scoped>\n",
       "    .dataframe tbody tr th:only-of-type {\n",
       "        vertical-align: middle;\n",
       "    }\n",
       "\n",
       "    .dataframe tbody tr th {\n",
       "        vertical-align: top;\n",
       "    }\n",
       "\n",
       "    .dataframe thead th {\n",
       "        text-align: right;\n",
       "    }\n",
       "</style>\n",
       "<table border=\"1\" class=\"dataframe\">\n",
       "  <thead>\n",
       "    <tr style=\"text-align: right;\">\n",
       "      <th></th>\n",
       "      <th>SEASON</th>\n",
       "      <th>FG_PCT_gsw</th>\n",
       "      <th>FT_PCT_gsw</th>\n",
       "      <th>FG3_PCT_gsw</th>\n",
       "      <th>AST_gsw</th>\n",
       "      <th>REB_gsw</th>\n",
       "      <th>FG_PCT_opp</th>\n",
       "      <th>FT_PCT_opp</th>\n",
       "      <th>FG3_PCT_opp</th>\n",
       "      <th>AST_opp</th>\n",
       "      <th>...</th>\n",
       "      <th>OPPONENT_1610612757</th>\n",
       "      <th>OPPONENT_1610612758</th>\n",
       "      <th>OPPONENT_1610612759</th>\n",
       "      <th>OPPONENT_1610612760</th>\n",
       "      <th>OPPONENT_1610612761</th>\n",
       "      <th>OPPONENT_1610612762</th>\n",
       "      <th>OPPONENT_1610612763</th>\n",
       "      <th>OPPONENT_1610612764</th>\n",
       "      <th>OPPONENT_1610612765</th>\n",
       "      <th>OPPONENT_1610612766</th>\n",
       "    </tr>\n",
       "    <tr>\n",
       "      <th>GAME_ID</th>\n",
       "      <th></th>\n",
       "      <th></th>\n",
       "      <th></th>\n",
       "      <th></th>\n",
       "      <th></th>\n",
       "      <th></th>\n",
       "      <th></th>\n",
       "      <th></th>\n",
       "      <th></th>\n",
       "      <th></th>\n",
       "      <th></th>\n",
       "      <th></th>\n",
       "      <th></th>\n",
       "      <th></th>\n",
       "      <th></th>\n",
       "      <th></th>\n",
       "      <th></th>\n",
       "      <th></th>\n",
       "      <th></th>\n",
       "      <th></th>\n",
       "      <th></th>\n",
       "    </tr>\n",
       "  </thead>\n",
       "  <tbody>\n",
       "    <tr>\n",
       "      <th>22101008</th>\n",
       "      <td>2021</td>\n",
       "      <td>0.484</td>\n",
       "      <td>0.933</td>\n",
       "      <td>0.400</td>\n",
       "      <td>33.0</td>\n",
       "      <td>55.0</td>\n",
       "      <td>0.413</td>\n",
       "      <td>0.696</td>\n",
       "      <td>0.386</td>\n",
       "      <td>27.0</td>\n",
       "      <td>...</td>\n",
       "      <td>0</td>\n",
       "      <td>0</td>\n",
       "      <td>0</td>\n",
       "      <td>0</td>\n",
       "      <td>0</td>\n",
       "      <td>0</td>\n",
       "      <td>0</td>\n",
       "      <td>0</td>\n",
       "      <td>0</td>\n",
       "      <td>0</td>\n",
       "    </tr>\n",
       "    <tr>\n",
       "      <th>22100980</th>\n",
       "      <td>2021</td>\n",
       "      <td>0.478</td>\n",
       "      <td>0.846</td>\n",
       "      <td>0.382</td>\n",
       "      <td>33.0</td>\n",
       "      <td>51.0</td>\n",
       "      <td>0.355</td>\n",
       "      <td>0.826</td>\n",
       "      <td>0.308</td>\n",
       "      <td>23.0</td>\n",
       "      <td>...</td>\n",
       "      <td>0</td>\n",
       "      <td>0</td>\n",
       "      <td>0</td>\n",
       "      <td>0</td>\n",
       "      <td>0</td>\n",
       "      <td>0</td>\n",
       "      <td>0</td>\n",
       "      <td>0</td>\n",
       "      <td>0</td>\n",
       "      <td>0</td>\n",
       "    </tr>\n",
       "    <tr>\n",
       "      <th>22100917</th>\n",
       "      <td>2021</td>\n",
       "      <td>0.429</td>\n",
       "      <td>0.600</td>\n",
       "      <td>0.282</td>\n",
       "      <td>27.0</td>\n",
       "      <td>44.0</td>\n",
       "      <td>0.500</td>\n",
       "      <td>0.800</td>\n",
       "      <td>0.382</td>\n",
       "      <td>16.0</td>\n",
       "      <td>...</td>\n",
       "      <td>0</td>\n",
       "      <td>0</td>\n",
       "      <td>0</td>\n",
       "      <td>0</td>\n",
       "      <td>0</td>\n",
       "      <td>0</td>\n",
       "      <td>0</td>\n",
       "      <td>0</td>\n",
       "      <td>0</td>\n",
       "      <td>0</td>\n",
       "    </tr>\n",
       "    <tr>\n",
       "      <th>22100883</th>\n",
       "      <td>2021</td>\n",
       "      <td>0.517</td>\n",
       "      <td>0.667</td>\n",
       "      <td>0.294</td>\n",
       "      <td>26.0</td>\n",
       "      <td>37.0</td>\n",
       "      <td>0.473</td>\n",
       "      <td>0.810</td>\n",
       "      <td>0.389</td>\n",
       "      <td>27.0</td>\n",
       "      <td>...</td>\n",
       "      <td>0</td>\n",
       "      <td>0</td>\n",
       "      <td>0</td>\n",
       "      <td>0</td>\n",
       "      <td>0</td>\n",
       "      <td>0</td>\n",
       "      <td>0</td>\n",
       "      <td>0</td>\n",
       "      <td>0</td>\n",
       "      <td>0</td>\n",
       "    </tr>\n",
       "    <tr>\n",
       "      <th>22100854</th>\n",
       "      <td>2021</td>\n",
       "      <td>0.444</td>\n",
       "      <td>0.735</td>\n",
       "      <td>0.316</td>\n",
       "      <td>24.0</td>\n",
       "      <td>50.0</td>\n",
       "      <td>0.466</td>\n",
       "      <td>0.667</td>\n",
       "      <td>0.407</td>\n",
       "      <td>25.0</td>\n",
       "      <td>...</td>\n",
       "      <td>0</td>\n",
       "      <td>0</td>\n",
       "      <td>0</td>\n",
       "      <td>0</td>\n",
       "      <td>0</td>\n",
       "      <td>0</td>\n",
       "      <td>0</td>\n",
       "      <td>0</td>\n",
       "      <td>0</td>\n",
       "      <td>0</td>\n",
       "    </tr>\n",
       "    <tr>\n",
       "      <th>...</th>\n",
       "      <td>...</td>\n",
       "      <td>...</td>\n",
       "      <td>...</td>\n",
       "      <td>...</td>\n",
       "      <td>...</td>\n",
       "      <td>...</td>\n",
       "      <td>...</td>\n",
       "      <td>...</td>\n",
       "      <td>...</td>\n",
       "      <td>...</td>\n",
       "      <td>...</td>\n",
       "      <td>...</td>\n",
       "      <td>...</td>\n",
       "      <td>...</td>\n",
       "      <td>...</td>\n",
       "      <td>...</td>\n",
       "      <td>...</td>\n",
       "      <td>...</td>\n",
       "      <td>...</td>\n",
       "      <td>...</td>\n",
       "      <td>...</td>\n",
       "    </tr>\n",
       "    <tr>\n",
       "      <th>11400084</th>\n",
       "      <td>2014</td>\n",
       "      <td>0.418</td>\n",
       "      <td>0.688</td>\n",
       "      <td>0.222</td>\n",
       "      <td>27.0</td>\n",
       "      <td>44.0</td>\n",
       "      <td>0.392</td>\n",
       "      <td>0.606</td>\n",
       "      <td>0.320</td>\n",
       "      <td>19.0</td>\n",
       "      <td>...</td>\n",
       "      <td>0</td>\n",
       "      <td>0</td>\n",
       "      <td>0</td>\n",
       "      <td>0</td>\n",
       "      <td>0</td>\n",
       "      <td>0</td>\n",
       "      <td>0</td>\n",
       "      <td>0</td>\n",
       "      <td>0</td>\n",
       "      <td>0</td>\n",
       "    </tr>\n",
       "    <tr>\n",
       "      <th>11400071</th>\n",
       "      <td>2014</td>\n",
       "      <td>0.487</td>\n",
       "      <td>0.852</td>\n",
       "      <td>0.290</td>\n",
       "      <td>26.0</td>\n",
       "      <td>29.0</td>\n",
       "      <td>0.557</td>\n",
       "      <td>0.806</td>\n",
       "      <td>0.632</td>\n",
       "      <td>18.0</td>\n",
       "      <td>...</td>\n",
       "      <td>0</td>\n",
       "      <td>0</td>\n",
       "      <td>0</td>\n",
       "      <td>0</td>\n",
       "      <td>0</td>\n",
       "      <td>0</td>\n",
       "      <td>0</td>\n",
       "      <td>0</td>\n",
       "      <td>0</td>\n",
       "      <td>0</td>\n",
       "    </tr>\n",
       "    <tr>\n",
       "      <th>11400042</th>\n",
       "      <td>2014</td>\n",
       "      <td>0.562</td>\n",
       "      <td>0.677</td>\n",
       "      <td>0.394</td>\n",
       "      <td>33.0</td>\n",
       "      <td>44.0</td>\n",
       "      <td>0.366</td>\n",
       "      <td>0.882</td>\n",
       "      <td>0.000</td>\n",
       "      <td>17.0</td>\n",
       "      <td>...</td>\n",
       "      <td>0</td>\n",
       "      <td>0</td>\n",
       "      <td>0</td>\n",
       "      <td>0</td>\n",
       "      <td>0</td>\n",
       "      <td>0</td>\n",
       "      <td>0</td>\n",
       "      <td>0</td>\n",
       "      <td>0</td>\n",
       "      <td>0</td>\n",
       "    </tr>\n",
       "    <tr>\n",
       "      <th>11400026</th>\n",
       "      <td>2014</td>\n",
       "      <td>0.560</td>\n",
       "      <td>0.667</td>\n",
       "      <td>0.571</td>\n",
       "      <td>27.0</td>\n",
       "      <td>39.0</td>\n",
       "      <td>0.438</td>\n",
       "      <td>0.722</td>\n",
       "      <td>0.091</td>\n",
       "      <td>22.0</td>\n",
       "      <td>...</td>\n",
       "      <td>0</td>\n",
       "      <td>0</td>\n",
       "      <td>0</td>\n",
       "      <td>0</td>\n",
       "      <td>0</td>\n",
       "      <td>0</td>\n",
       "      <td>0</td>\n",
       "      <td>0</td>\n",
       "      <td>0</td>\n",
       "      <td>0</td>\n",
       "    </tr>\n",
       "    <tr>\n",
       "      <th>11400015</th>\n",
       "      <td>2014</td>\n",
       "      <td>0.486</td>\n",
       "      <td>0.766</td>\n",
       "      <td>0.316</td>\n",
       "      <td>25.0</td>\n",
       "      <td>44.0</td>\n",
       "      <td>0.407</td>\n",
       "      <td>0.710</td>\n",
       "      <td>0.261</td>\n",
       "      <td>22.0</td>\n",
       "      <td>...</td>\n",
       "      <td>0</td>\n",
       "      <td>0</td>\n",
       "      <td>0</td>\n",
       "      <td>0</td>\n",
       "      <td>0</td>\n",
       "      <td>0</td>\n",
       "      <td>0</td>\n",
       "      <td>0</td>\n",
       "      <td>0</td>\n",
       "      <td>0</td>\n",
       "    </tr>\n",
       "  </tbody>\n",
       "</table>\n",
       "<p>965 rows × 44 columns</p>\n",
       "</div>"
      ],
      "text/plain": [
       "          SEASON  FG_PCT_gsw  FT_PCT_gsw  FG3_PCT_gsw  AST_gsw  REB_gsw  \\\n",
       "GAME_ID                                                                   \n",
       "22101008    2021       0.484       0.933        0.400     33.0     55.0   \n",
       "22100980    2021       0.478       0.846        0.382     33.0     51.0   \n",
       "22100917    2021       0.429       0.600        0.282     27.0     44.0   \n",
       "22100883    2021       0.517       0.667        0.294     26.0     37.0   \n",
       "22100854    2021       0.444       0.735        0.316     24.0     50.0   \n",
       "...          ...         ...         ...          ...      ...      ...   \n",
       "11400084    2014       0.418       0.688        0.222     27.0     44.0   \n",
       "11400071    2014       0.487       0.852        0.290     26.0     29.0   \n",
       "11400042    2014       0.562       0.677        0.394     33.0     44.0   \n",
       "11400026    2014       0.560       0.667        0.571     27.0     39.0   \n",
       "11400015    2014       0.486       0.766        0.316     25.0     44.0   \n",
       "\n",
       "          FG_PCT_opp  FT_PCT_opp  FG3_PCT_opp  AST_opp  ...  \\\n",
       "GAME_ID                                                 ...   \n",
       "22101008       0.413       0.696        0.386     27.0  ...   \n",
       "22100980       0.355       0.826        0.308     23.0  ...   \n",
       "22100917       0.500       0.800        0.382     16.0  ...   \n",
       "22100883       0.473       0.810        0.389     27.0  ...   \n",
       "22100854       0.466       0.667        0.407     25.0  ...   \n",
       "...              ...         ...          ...      ...  ...   \n",
       "11400084       0.392       0.606        0.320     19.0  ...   \n",
       "11400071       0.557       0.806        0.632     18.0  ...   \n",
       "11400042       0.366       0.882        0.000     17.0  ...   \n",
       "11400026       0.438       0.722        0.091     22.0  ...   \n",
       "11400015       0.407       0.710        0.261     22.0  ...   \n",
       "\n",
       "          OPPONENT_1610612757  OPPONENT_1610612758  OPPONENT_1610612759  \\\n",
       "GAME_ID                                                                   \n",
       "22101008                    0                    0                    0   \n",
       "22100980                    0                    0                    0   \n",
       "22100917                    0                    0                    0   \n",
       "22100883                    0                    0                    0   \n",
       "22100854                    0                    0                    0   \n",
       "...                       ...                  ...                  ...   \n",
       "11400084                    0                    0                    0   \n",
       "11400071                    0                    0                    0   \n",
       "11400042                    0                    0                    0   \n",
       "11400026                    0                    0                    0   \n",
       "11400015                    0                    0                    0   \n",
       "\n",
       "          OPPONENT_1610612760  OPPONENT_1610612761  OPPONENT_1610612762  \\\n",
       "GAME_ID                                                                   \n",
       "22101008                    0                    0                    0   \n",
       "22100980                    0                    0                    0   \n",
       "22100917                    0                    0                    0   \n",
       "22100883                    0                    0                    0   \n",
       "22100854                    0                    0                    0   \n",
       "...                       ...                  ...                  ...   \n",
       "11400084                    0                    0                    0   \n",
       "11400071                    0                    0                    0   \n",
       "11400042                    0                    0                    0   \n",
       "11400026                    0                    0                    0   \n",
       "11400015                    0                    0                    0   \n",
       "\n",
       "          OPPONENT_1610612763  OPPONENT_1610612764  OPPONENT_1610612765  \\\n",
       "GAME_ID                                                                   \n",
       "22101008                    0                    0                    0   \n",
       "22100980                    0                    0                    0   \n",
       "22100917                    0                    0                    0   \n",
       "22100883                    0                    0                    0   \n",
       "22100854                    0                    0                    0   \n",
       "...                       ...                  ...                  ...   \n",
       "11400084                    0                    0                    0   \n",
       "11400071                    0                    0                    0   \n",
       "11400042                    0                    0                    0   \n",
       "11400026                    0                    0                    0   \n",
       "11400015                    0                    0                    0   \n",
       "\n",
       "          OPPONENT_1610612766  \n",
       "GAME_ID                        \n",
       "22101008                    0  \n",
       "22100980                    0  \n",
       "22100917                    0  \n",
       "22100883                    0  \n",
       "22100854                    0  \n",
       "...                       ...  \n",
       "11400084                    0  \n",
       "11400071                    0  \n",
       "11400042                    0  \n",
       "11400026                    0  \n",
       "11400015                    0  \n",
       "\n",
       "[965 rows x 44 columns]"
      ]
     },
     "execution_count": 211,
     "metadata": {},
     "output_type": "execute_result"
    }
   ],
   "source": [
    "team_games"
   ]
  },
  {
   "cell_type": "code",
   "execution_count": 212,
   "id": "b8a75637",
   "metadata": {},
   "outputs": [
    {
     "data": {
      "text/plain": [
       "Index(['SEASON', 'FG_PCT_gsw', 'FT_PCT_gsw', 'FG3_PCT_gsw', 'AST_gsw',\n",
       "       'REB_gsw', 'FG_PCT_opp', 'FT_PCT_opp', 'FG3_PCT_opp', 'AST_opp',\n",
       "       'REB_opp', 'GSW_WIN', 'Stephen', 'Klay', 'Green', 'OPPONENT_1610612737',\n",
       "       'OPPONENT_1610612738', 'OPPONENT_1610612739', 'OPPONENT_1610612740',\n",
       "       'OPPONENT_1610612741', 'OPPONENT_1610612742', 'OPPONENT_1610612743',\n",
       "       'OPPONENT_1610612745', 'OPPONENT_1610612746', 'OPPONENT_1610612747',\n",
       "       'OPPONENT_1610612748', 'OPPONENT_1610612749', 'OPPONENT_1610612750',\n",
       "       'OPPONENT_1610612751', 'OPPONENT_1610612752', 'OPPONENT_1610612753',\n",
       "       'OPPONENT_1610612754', 'OPPONENT_1610612755', 'OPPONENT_1610612756',\n",
       "       'OPPONENT_1610612757', 'OPPONENT_1610612758', 'OPPONENT_1610612759',\n",
       "       'OPPONENT_1610612760', 'OPPONENT_1610612761', 'OPPONENT_1610612762',\n",
       "       'OPPONENT_1610612763', 'OPPONENT_1610612764', 'OPPONENT_1610612765',\n",
       "       'OPPONENT_1610612766'],\n",
       "      dtype='object')"
      ]
     },
     "execution_count": 212,
     "metadata": {},
     "output_type": "execute_result"
    }
   ],
   "source": [
    "team_games.columns"
   ]
  },
  {
   "cell_type": "markdown",
   "id": "4f5c0304",
   "metadata": {},
   "source": [
    "## Experiments"
   ]
  },
  {
   "cell_type": "markdown",
   "id": "5582b3bf",
   "metadata": {},
   "source": [
    "### Data Splitting"
   ]
  },
  {
   "cell_type": "code",
   "execution_count": 149,
   "id": "2ca8ebf2",
   "metadata": {},
   "outputs": [],
   "source": [
    "X = team_games.drop('GSW_WIN', axis = 1)\n",
    "y = team_games['GSW_WIN']"
   ]
  },
  {
   "cell_type": "code",
   "execution_count": 189,
   "id": "aa5fcf44",
   "metadata": {},
   "outputs": [],
   "source": [
    "X_train, X_test, y_train, y_test = train_test_split(X, y, test_size=0.2, random_state=1)"
   ]
  },
  {
   "cell_type": "code",
   "execution_count": 186,
   "id": "389edb42",
   "metadata": {
    "scrolled": true
   },
   "outputs": [
    {
     "data": {
      "text/plain": [
       "1    66.528497\n",
       "0    33.471503\n",
       "Name: GSW_WIN, dtype: float64"
      ]
     },
     "execution_count": 186,
     "metadata": {},
     "output_type": "execute_result"
    }
   ],
   "source": [
    "y.value_counts(normalize=True) * 100"
   ]
  },
  {
   "cell_type": "markdown",
   "id": "35546d2a",
   "metadata": {},
   "source": [
    "Here, we can see that out target class is unbalanced, so we will use the roc-auc scoring metrics for better reliability."
   ]
  },
  {
   "cell_type": "markdown",
   "id": "6666380c",
   "metadata": {},
   "source": [
    "### Gradient Boosting Classifier\n"
   ]
  },
  {
   "cell_type": "code",
   "execution_count": 191,
   "id": "0afa7ee7",
   "metadata": {
    "scrolled": true
   },
   "outputs": [
    {
     "data": {
      "image/png": "[encoded data removed]",
      "text/plain": [
       "<Figure size 432x288 with 1 Axes>"
      ]
     },
     "metadata": {
      "needs_background": "light"
     },
     "output_type": "display_data"
    }
   ],
   "source": [
    "parameter_range =  [10, 25, 50]\n",
    "\n",
    "train_score, test_score = validation_curve(GradientBoostingClassifier(), X_train, y_train,\n",
    "                                           param_name = \"n_estimators\", \n",
    "                                           param_range = parameter_range,\n",
    "                                           cv = 5,\n",
    "                                           scoring = \"roc_auc\")\n",
    "\n",
    "mean_train_score = np.mean(train_score, axis = 1)\n",
    "std_train_score = np.std(train_score, axis = 1)\n",
    "\n",
    "mean_test_score = np.mean(test_score, axis = 1)\n",
    "std_test_score = np.std(test_score, axis = 1)\n",
    "\n",
    "plt.plot(parameter_range, mean_train_score, label = \"Training Score\", color = 'b')\n",
    "plt.plot(parameter_range, mean_test_score, label = \"Cross Validation Score\", color = 'g')\n",
    "\n",
    "# Creating the plot\n",
    "plt.title(\"Validation Curve with Gradient Boosting Classifier\")\n",
    "plt.xlabel(\"# of estimators parameter\")\n",
    "plt.ylabel(\"ROC-AUC Score\")\n",
    "plt.tight_layout()\n",
    "plt.legend(loc = 'best')\n",
    "plt.show()"
   ]
  },
  {
   "cell_type": "markdown",
   "id": "9deeaebc",
   "metadata": {},
   "source": [
    "Here, we can see that both training score and cross validation score show high roc-auc score for the range of number of esitmators. XGBOOST shows too accurate result on training set for 50 estimators, while cross-validation score is relatively low and this can be adressed to an overfitting problem. Reason for this can be, to complex model and small size of dataset."
   ]
  },
  {
   "cell_type": "code",
   "execution_count": 192,
   "id": "f6edd8f8",
   "metadata": {},
   "outputs": [
    {
     "name": "stdout",
     "output_type": "stream",
     "text": [
      "best parameters:  {'learning_rate': 0.1, 'max_depth': 3, 'n_estimators': 50}\n",
      "best score:  0.9217681955594177\n"
     ]
    }
   ],
   "source": [
    "clf = GradientBoostingClassifier()\n",
    "parameters = {\"learning_rate\": [0.01, 0.1, 1, 10],\"max_depth\":[3, 5, 8],\"n_estimators\":[10, 25, 50]}\n",
    "\n",
    "model = GridSearchCV(clf, param_grid=parameters, scoring='roc_auc', cv = 5)\n",
    "model.fit(X_train, y_train)\n",
    "    \n",
    "print('best parameters: ', model.best_params_)\n",
    "print('best score: ', model.best_score_) "
   ]
  },
  {
   "cell_type": "code",
   "execution_count": 194,
   "id": "c25c77a3",
   "metadata": {
    "scrolled": true
   },
   "outputs": [
    {
     "name": "stdout",
     "output_type": "stream",
     "text": [
      "ROC-AUC score of XGBOOST classifier on test set: 0.95\n"
     ]
    },
    {
     "data": {
      "image/png": "[encoded data removed]",
      "text/plain": [
       "<Figure size 432x288 with 1 Axes>"
      ]
     },
     "metadata": {
      "needs_background": "light"
     },
     "output_type": "display_data"
    }
   ],
   "source": [
    "print('ROC-AUC score of XGBOOST classifier on test set: {:.2f}'\n",
    "     .format(roc_auc_score(y_test, model.predict_proba(X_test)[:, 1])))\n",
    "\n",
    "y_pred_proba = model.predict_proba(X_test)[::,1]\n",
    "fpr, tpr, _ = roc_curve(y_test,  y_pred_proba)\n",
    "auc_xgb = roc_auc_score(y_test, y_pred_proba)\n",
    "plt.plot(fpr,tpr,label=\"data, auc=\"+str(auc_xgb))\n",
    "plt.legend(loc=4)\n",
    "plt.show()"
   ]
  },
  {
   "cell_type": "markdown",
   "id": "ec23cdc2",
   "metadata": {},
   "source": [
    "Both results for cross - validaiton and test sets are 0.92 and 0.95, respectively and this shows a great preformance of XGBOOST on predicting our target value."
   ]
  },
  {
   "cell_type": "markdown",
   "id": "62d1cd9f",
   "metadata": {},
   "source": [
    "### Logistic Regression"
   ]
  },
  {
   "cell_type": "markdown",
   "id": "91351157",
   "metadata": {},
   "source": [
    "Logistic regression is not able to learn what value of $C$ to choose. It can not be solve by the optimization problem. Hence, $C$ is the a model hyperparameter that is tuned on GridSearchCV."
   ]
  },
  {
   "cell_type": "code",
   "execution_count": 195,
   "id": "61e74b0c",
   "metadata": {
    "scrolled": false
   },
   "outputs": [
    {
     "data": {
      "image/png": "[encoded data removed]",
      "text/plain": [
       "<Figure size 432x288 with 1 Axes>"
      ]
     },
     "metadata": {
      "needs_background": "light"
     },
     "output_type": "display_data"
    }
   ],
   "source": [
    "# Setting the range for the parameter (from 1 to 10)\n",
    "parameter_range = np.logspace(-3,2,7)\n",
    "\n",
    "train_score, test_score = validation_curve(LogisticRegression(), X_train, y_train,\n",
    "                                           param_name = \"C\", \n",
    "                                           param_range = parameter_range,\n",
    "                                           cv = 5,\n",
    "                                           scoring = \"roc_auc\")\n",
    "\n",
    "mean_train_score = np.mean(train_score, axis = 1)\n",
    "std_train_score = np.std(train_score, axis = 1)\n",
    "\n",
    "mean_test_score = np.mean(test_score, axis = 1)\n",
    "std_test_score = np.std(test_score, axis = 1)\n",
    "\n",
    "plt.plot(parameter_range, mean_train_score, label = \"Training Score\", color = 'b')\n",
    "plt.plot(parameter_range, mean_test_score, label = \"Cross Validation Score\", color = 'g')\n",
    "\n",
    "# Creating the plot\n",
    "plt.title(\"Validation Curve with LogisticRegression Classifier\")\n",
    "plt.xlabel(\"C-parameter\")\n",
    "plt.ylabel(\"ROC-AUC Score\")\n",
    "plt.tight_layout()\n",
    "plt.legend(loc = 'best')\n",
    "plt.show()"
   ]
  },
  {
   "cell_type": "code",
   "execution_count": 196,
   "id": "d655870c",
   "metadata": {},
   "outputs": [
    {
     "name": "stdout",
     "output_type": "stream",
     "text": [
      "best parameters:  {'C': 100.0, 'penalty': 'l2'}\n",
      "best score : 0.879990836956145\n"
     ]
    }
   ],
   "source": [
    "parameters={\"C\":np.logspace(-3,3,7), \"penalty\":[\"l1\",\"l2\"]}\n",
    "\n",
    "logreg=LogisticRegression()\n",
    "logreg_cv=GridSearchCV(logreg, parameters, cv=5,scoring = 'roc_auc')\n",
    "logreg_cv.fit(X_train,y_train)\n",
    "\n",
    "print(\"best parameters: \",logreg_cv.best_params_)\n",
    "print(\"best score :\",logreg_cv.best_score_)"
   ]
  },
  {
   "cell_type": "markdown",
   "id": "80a351ca",
   "metadata": {},
   "source": [
    "$$\\large J(X,y,w) = \\mathcal{L} + \\frac{1}{C}||w||^2,$$\n",
    "\n",
    "where\n",
    "\n",
    "- $\\mathcal{L}$ is the logistic loss function \n",
    "- $C$ is the reverse regularization coefficient "
   ]
  },
  {
   "cell_type": "markdown",
   "id": "bab07234",
   "metadata": {},
   "source": [
    "Here we can say that $C$ corresponds to Complexity of a model.\n",
    "\n",
    "- if $C$ is small-> regularization is strong-> model will underfit. And on the validation curve graph we can see that indeed at smaller values of C, our model underfitting, because both trends has low accuracy and too close to each other.\n",
    "\n",
    "- if $C$ is large-> regularization is weak -> model will overfit. However on the validation curve graph we can see that at higher values of C, our model is not overfitting because both trends show relatively good accuracy scores and converge\n",
    "\n",
    "Logistic Regression has the best roc-auc score(0.88) by setting the hyperparameter $C$ = 100.0 and penalty regularization to l2."
   ]
  },
  {
   "cell_type": "code",
   "execution_count": 197,
   "id": "979edeef",
   "metadata": {
    "scrolled": true
   },
   "outputs": [
    {
     "name": "stdout",
     "output_type": "stream",
     "text": [
      "ROC-AUC score of Logistic Regression classifier on test set: 0.89\n"
     ]
    },
    {
     "data": {
      "image/png": "[encoded data removed]",
      "text/plain": [
       "<Figure size 432x288 with 1 Axes>"
      ]
     },
     "metadata": {
      "needs_background": "light"
     },
     "output_type": "display_data"
    }
   ],
   "source": [
    "print('ROC-AUC score of Logistic Regression classifier on test set: {:.2f}'\n",
    "     .format(roc_auc_score(y_test, logreg_cv.predict_proba(X_test)[:, 1])))\n",
    "\n",
    "y_pred_proba = logreg_cv.predict_proba(X_test)[::,1]\n",
    "fpr, tpr, _ = roc_curve(y_test,  y_pred_proba)\n",
    "auc_log = roc_auc_score(y_test, y_pred_proba)\n",
    "plt.plot(fpr,tpr,label=\"data, auc=\"+str(auc_log))\n",
    "plt.legend(loc=4)\n",
    "plt.show()"
   ]
  },
  {
   "cell_type": "markdown",
   "id": "7acf7fed",
   "metadata": {},
   "source": [
    "Logistic Regression has almost the same ROC-AUC score on mean cross-validation and test sets $0.88$ and $0.89$, respectively.This shows great generalization preformance of Logistic Regression."
   ]
  },
  {
   "cell_type": "markdown",
   "id": "ce7b5e68",
   "metadata": {},
   "source": [
    "### K-Nearest Neighbors"
   ]
  },
  {
   "cell_type": "code",
   "execution_count": 198,
   "id": "19af80c2",
   "metadata": {
    "scrolled": false
   },
   "outputs": [
    {
     "data": {
      "image/png": "[encoded data removed]",
      "text/plain": [
       "<Figure size 432x288 with 1 Axes>"
      ]
     },
     "metadata": {
      "needs_background": "light"
     },
     "output_type": "display_data"
    }
   ],
   "source": [
    "parameter_range = np.arange(1, 30, 1)\n",
    "train_score, test_score = validation_curve(KNeighborsClassifier(), X_train, y_train,\n",
    "                                           param_name = \"n_neighbors\", \n",
    "                                           param_range = parameter_range,\n",
    "                                           cv = 5,\n",
    "                                           scoring = \"roc_auc\")\n",
    "\n",
    "mean_train_score = np.mean(train_score, axis = 1)\n",
    "std_train_score = np.std(train_score, axis = 1)\n",
    "\n",
    "mean_test_score = np.mean(test_score, axis = 1)\n",
    "std_test_score = np.std(test_score, axis = 1)\n",
    "\n",
    "plt.plot(parameter_range, mean_train_score, label = \"Training Score\", color = 'b')\n",
    "plt.plot(parameter_range, mean_test_score, label = \"Cross Validation Score\", color = 'g')\n",
    "\n",
    "# Creating the plot\n",
    "plt.title(\"Validation Curve with KNN Classifier\")\n",
    "plt.xlabel(\"Number of Neighbours\")\n",
    "plt.ylabel(\"ROC-AUC Score\")\n",
    "plt.tight_layout()\n",
    "plt.legend(loc = 'best')\n",
    "plt.show()"
   ]
  },
  {
   "cell_type": "markdown",
   "id": "a6ada198",
   "metadata": {},
   "source": [
    "We can observe here that as the number of neighbours is less than 5, model is simply overfitting, while the tuned hyperparameter starts to increase, the model generalization performance improves."
   ]
  },
  {
   "cell_type": "code",
   "execution_count": 204,
   "id": "92b0a7cd",
   "metadata": {
    "scrolled": false
   },
   "outputs": [
    {
     "name": "stdout",
     "output_type": "stream",
     "text": [
      "best parameters:  {'n_neighbors': 29, 'p': 1}\n",
      "best score:  0.866507521472714\n"
     ]
    }
   ],
   "source": [
    "parameters={\"n_neighbors\":list(range(1,30)), \"p\":[1,2]}\n",
    "\n",
    "knn = KNeighborsClassifier()\n",
    "\n",
    "model = GridSearchCV(knn, parameters, cv = 5, scoring = 'roc_auc')\n",
    "\n",
    "knn_model = model.fit(X_train, y_train)\n",
    "\n",
    "print(\"best parameters: \",knn_model.best_params_)\n",
    "print(\"best score: \",knn_model.best_score_)"
   ]
  },
  {
   "cell_type": "markdown",
   "id": "75d77388",
   "metadata": {},
   "source": [
    "At the validation graph above, model with n_neighbors = 29 as a tuned hyperparameter have a good fit, where training  and cross-validation curves have good roc-auc scores and close to each other."
   ]
  },
  {
   "cell_type": "code",
   "execution_count": 203,
   "id": "d08337d9",
   "metadata": {},
   "outputs": [
    {
     "name": "stdout",
     "output_type": "stream",
     "text": [
      "ROC-AUC score of KNN classifier on test set: 0.88\n"
     ]
    },
    {
     "data": {
      "image/png": "[encoded data removed]",
      "text/plain": [
       "<Figure size 432x288 with 1 Axes>"
      ]
     },
     "metadata": {
      "needs_background": "light"
     },
     "output_type": "display_data"
    }
   ],
   "source": [
    "print('ROC-AUC score of KNN classifier on test set: {:.2f}'\n",
    "     .format(roc_auc_score(y_test, knn_model.predict_proba(X_test)[:, 1])))\n",
    "\n",
    "y_pred_proba = knn_model.predict_proba(X_test)[::,1]\n",
    "fpr, tpr, _ = roc_curve(y_test,  y_pred_proba)\n",
    "auc_knn = roc_auc_score(y_test, y_pred_proba)\n",
    "plt.plot(fpr,tpr,label=\"data, auc=\"+str(auc_knn))\n",
    "plt.legend(loc=4)\n",
    "plt.show()"
   ]
  },
  {
   "cell_type": "markdown",
   "id": "a149d45d",
   "metadata": {},
   "source": [
    "ROC-AUC score for KNN model on the test and cross-validation sets are almost simillar, 0.87 and 0.88, respectively. We can say that KNN has a good generalization performance on test set."
   ]
  },
  {
   "cell_type": "markdown",
   "id": "19075a70",
   "metadata": {},
   "source": [
    "## Analysis"
   ]
  },
  {
   "cell_type": "code",
   "execution_count": 208,
   "id": "2dc9f2f9",
   "metadata": {},
   "outputs": [
    {
     "data": {
      "image/png": "[encoded data removed]",
      "text/plain": [
       "<Figure size 432x288 with 1 Axes>"
      ]
     },
     "metadata": {
      "needs_background": "light"
     },
     "output_type": "display_data"
    }
   ],
   "source": [
    "sizes, training_scores, testing_scores = learning_curve(GradientBoostingClassifier(learning_rate = 0.1, max_depth = 3, n_estimators = 50),\n",
    "                                                        X_train, y_train, \n",
    "                                                        cv=5, \n",
    "                                                        scoring='roc_auc', \n",
    "                                                        train_sizes=np.linspace(0.01, 1.0, 50))\n",
    "  \n",
    "mean_training = np.mean(training_scores, axis=1)\n",
    "Standard_Deviation_training = np.std(training_scores, axis=1)\n",
    "  \n",
    "mean_testing = np.mean(testing_scores, axis=1)\n",
    "Standard_Deviation_testing = np.std(testing_scores, axis=1)\n",
    "  \n",
    "plt.plot(sizes, mean_training, '--', color=\"b\",  label=\"Training score\")\n",
    "plt.plot(sizes, mean_testing, color=\"g\", label=\"Cross-validation score\")\n",
    "  \n",
    "plt.title(\"Learning Curve of Gradient Boosting Classifier\")\n",
    "plt.xlabel(\"Training Set Size\"), plt.ylabel(\"ROC-AUC Score\"), plt.legend(loc=\"best\")\n",
    "plt.tight_layout()\n",
    "plt.show()"
   ]
  },
  {
   "cell_type": "code",
   "execution_count": 207,
   "id": "08928db4",
   "metadata": {},
   "outputs": [
    {
     "data": {
      "image/png": "[encoded data removed]",
      "text/plain": [
       "<Figure size 432x288 with 1 Axes>"
      ]
     },
     "metadata": {
      "needs_background": "light"
     },
     "output_type": "display_data"
    }
   ],
   "source": [
    "sizes, training_scores, testing_scores = learning_curve(LogisticRegression(C = 100, penalty = 'l2'), X_train, y_train, \n",
    "                                                        cv=5, \n",
    "                                                        scoring='roc_auc', \n",
    "                                                        train_sizes=np.linspace(0.01, 1.0, 50))\n",
    "  \n",
    "mean_training = np.mean(training_scores, axis=1)\n",
    "Standard_Deviation_training = np.std(training_scores, axis=1)\n",
    "  \n",
    "mean_testing = np.mean(testing_scores, axis=1)\n",
    "Standard_Deviation_testing = np.std(testing_scores, axis=1)\n",
    "  \n",
    "plt.plot(sizes, mean_training, '--', color=\"b\",  label=\"Training score\")\n",
    "plt.plot(sizes, mean_testing, color=\"g\", label=\"Cross-validation score\")\n",
    "  \n",
    "plt.title(\"Learning Curve of Logistic Regression Classifier\")\n",
    "plt.xlabel(\"Training Set Size\"), plt.ylabel(\"ROC-AUC Score\"), plt.legend(loc=\"best\")\n",
    "plt.tight_layout()\n",
    "plt.show()"
   ]
  },
  {
   "cell_type": "code",
   "execution_count": 206,
   "id": "e932ec93",
   "metadata": {
    "scrolled": true
   },
   "outputs": [
    {
     "data": {
      "image/png": "[encoded data removed]",
      "text/plain": [
       "<Figure size 432x288 with 1 Axes>"
      ]
     },
     "metadata": {
      "needs_background": "light"
     },
     "output_type": "display_data"
    }
   ],
   "source": [
    "sizes, training_scores, testing_scores = learning_curve(KNeighborsClassifier(n_neighbors = 29, p = 1), X_train, y_train, \n",
    "                                                        cv=5, \n",
    "                                                        scoring='roc_auc', \n",
    "                                                        train_sizes=np.linspace(0.01, 1.0, 50))\n",
    "  \n",
    "mean_training = np.mean(training_scores, axis=1)\n",
    "Standard_Deviation_training = np.std(training_scores, axis=1)\n",
    "  \n",
    "mean_testing = np.mean(testing_scores, axis=1)\n",
    "Standard_Deviation_testing = np.std(testing_scores, axis=1)\n",
    "  \n",
    "plt.plot(sizes, mean_training, '--', color=\"b\",  label=\"Training score\")\n",
    "plt.plot(sizes, mean_testing, color=\"g\", label=\"Cross-validation score\")\n",
    "  \n",
    "plt.title(\"Learning Curve of KNN Classifier\")\n",
    "plt.xlabel(\"Training Set Size\"), plt.ylabel(\"ROC-AUC Score\"), plt.legend(loc=\"best\")\n",
    "plt.tight_layout()\n",
    "plt.show()"
   ]
  },
  {
   "cell_type": "code",
   "execution_count": 205,
   "id": "90251f9b",
   "metadata": {},
   "outputs": [
    {
     "data": {
      "text/html": [
       "<div>\n",
       "<style scoped>\n",
       "    .dataframe tbody tr th:only-of-type {\n",
       "        vertical-align: middle;\n",
       "    }\n",
       "\n",
       "    .dataframe tbody tr th {\n",
       "        vertical-align: top;\n",
       "    }\n",
       "\n",
       "    .dataframe thead th {\n",
       "        text-align: right;\n",
       "    }\n",
       "</style>\n",
       "<table border=\"1\" class=\"dataframe\">\n",
       "  <thead>\n",
       "    <tr style=\"text-align: right;\">\n",
       "      <th></th>\n",
       "      <th>ROC-AUC scores(test set)</th>\n",
       "    </tr>\n",
       "  </thead>\n",
       "  <tbody>\n",
       "    <tr>\n",
       "      <th>Gradient Boosting</th>\n",
       "      <td>0.953509</td>\n",
       "    </tr>\n",
       "    <tr>\n",
       "      <th>Logistic Regression</th>\n",
       "      <td>0.889599</td>\n",
       "    </tr>\n",
       "    <tr>\n",
       "      <th>K-Nearest Neighbors</th>\n",
       "      <td>0.881015</td>\n",
       "    </tr>\n",
       "  </tbody>\n",
       "</table>\n",
       "</div>"
      ],
      "text/plain": [
       "                     ROC-AUC scores(test set)\n",
       "Gradient Boosting                    0.953509\n",
       "Logistic Regression                  0.889599\n",
       "K-Nearest Neighbors                  0.881015"
      ]
     },
     "execution_count": 205,
     "metadata": {},
     "output_type": "execute_result"
    }
   ],
   "source": [
    "res = {'ROC-AUC scores(test set)': [auc_xgb, auc_log, auc_knn]}\n",
    "results = pd.DataFrame(res, index = ['Gradient Boosting','Logistic Regression' ,'K-Nearest Neighbors'])\n",
    "results"
   ]
  },
  {
   "cell_type": "markdown",
   "id": "f61c5731",
   "metadata": {},
   "source": [
    "In all 3 model learning curves, we can observe such pattern where the size of the training set increases, the training score  and the cross-validation score curves start to converge, which is a sign of good generalization performance.Also, as training data, increases, the cross-validation accuracy also increases, so we need to increase our training data.\n",
    "\n",
    "All three model have relatively good ROC-AUC Scores on data set, however Gradient Boosting have relatively high cross-validation curve scores on learning curve, and high rou-auc score on the test set. So Gradient Boosting classifier is a great model for our task.\n",
    "\n",
    "In further experiments,we are interested to check our data on linearity and relate this feature to performance of all 3 models.\n",
    "\n"
   ]
  },
  {
   "cell_type": "markdown",
   "id": "4a06052f",
   "metadata": {},
   "source": [
    "## Discussion\n",
    "\n",
    "We examined 3 models such as Gradient Boosting, Logistic Regression and K Nearest Neighbors on predictig the GSW WIN/LOSS as our target value. We have used GridSearchCV for hyperparameter tuning to see which set of parameters will give the most reliable results.Also Validation curves and Learning curves were plotted for each model, to show whether model overfits/underfits relating to hyperparameters and size of training set.Evaluation was done by ROC-AUC metric, as it is more reliable in terms of unbalanced data.\n",
    "\n",
    "If this research project will be continued, we'd like to research linearity/non-linearity of data, and also collinearity, as it might be reason of model relatively good/poor performance.\n",
    "\n",
    "Furthermore, I also wanted to analyze how each feature is contributed to a model performance."
   ]
  },
  {
   "cell_type": "markdown",
   "id": "a1586843",
   "metadata": {},
   "source": [
    "## Conclusion"
   ]
  },
  {
   "cell_type": "markdown",
   "id": "a39abdb5",
   "metadata": {},
   "source": [
    "Doing this research project,I have learned to transform data features to numerical for model fitting, and also to analyze each model in terms of generalization by plotting validation and learning curves.Also, I realized, how setting parameters of a model can greatly increase performance of a model.\n",
    "\n",
    "The main disadvantage of this project is that some dataset features are only known after the game will proceed. So these models would not benefit gamblers to make their bets on NBA games."
   ]
  },
  {
   "cell_type": "code",
   "execution_count": null,
   "id": "b399b054",
   "metadata": {},
   "outputs": [],
   "source": []
  }
 ],
 "metadata": {
  "kernelspec": {
   "display_name": "Python 3",
   "language": "python",
   "name": "python3"
  },
  "language_info": {
   "codemirror_mode": {
    "name": "ipython",
    "version": 3
   },
   "file_extension": ".py",
   "mimetype": "text/x-python",
   "name": "python",
   "nbconvert_exporter": "python",
   "pygments_lexer": "ipython3",
   "version": "3.8.8"
  }
 },
 "nbformat": 4,
 "nbformat_minor": 5
}
